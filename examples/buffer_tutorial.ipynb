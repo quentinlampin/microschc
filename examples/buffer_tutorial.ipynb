{
 "cells": [
  {
   "cell_type": "markdown",
   "metadata": {},
   "source": [
    "# Buffer Tutorial\n",
    "\n",
    "This tutorial explains how to use the `Buffer` class from microSCHC for bit-level binary data manipulation.\n",
    "\n",
    "## Why Buffer?\n",
    "\n",
    "The `Buffer` class is designed to handle binary data at the bit level, which is crucial for header compression. It addresses several challenges:\n",
    "\n",
    "1. **Bit-level Precision**: The same byte sequence can represent different values depending on their bit length\n",
    "2. **Padding Control**: Fields can be left-padded or right-padded\n",
    "3. **Bit-level Operations**: Support for shifting, masking, and other binary operations\n",
    "\n",
    "## Basic Usage\n",
    "\n",
    "Let's start with some basic examples of creating buffers:"
   ]
  },
  {
   "cell_type": "code",
   "execution_count": 1,
   "metadata": {},
   "outputs": [],
   "source": [
    "from microschc.binary.buffer import Buffer, Padding\n",
    "\n",
    "# Create a buffer with explicit bit length\n",
    "ipv6_address = Buffer(\n",
    "    content=b'\\x20\\x01\\x0d\\xb8\\x00\\x00\\x00\\x00\\x00\\x00\\x00\\x00\\x00\\x00\\x00\\x01',\n",
    "    length=128,  # IPv6 address is 128 bits\n",
    "    padding=Padding.LEFT  # Default padding\n",
    ")\n",
    "\n",
    "# Create a buffer for a 4-bit field\n",
    "small_field = Buffer(\n",
    "    content=b'\\x06',  # Binary: 0110\n",
    "    length=4,         # Only use 4 bits\n",
    "    padding=Padding.LEFT\n",
    ")\n",
    "\n",
    "# Create a buffer for a 12-bit field\n",
    "larger_field = Buffer(\n",
    "    content=b'\\x06',  # Binary: 0000 0000 0110\n",
    "    length=12,        # Use 12 bits\n",
    "    padding=Padding.LEFT\n",
    ")"
   ]
  },
  {
   "cell_type": "markdown",
   "metadata": {},
   "source": [
    "## Bit-level Operations\n",
    "\n",
    "The `Buffer` class supports various bit-level operations:"
   ]
  },
  {
   "cell_type": "code",
   "execution_count": 2,
   "metadata": {},
   "outputs": [],
   "source": [
    "# Bitwise operations\n",
    "buffer1 = Buffer(content=b'\\x0F', length=8)  # 0000 1111\n",
    "buffer2 = Buffer(content=b'\\xF0', length=8)  # 1111 0000\n",
    "\n",
    "# AND operation\n",
    "result_and = buffer1 & buffer2  # 0000 0000\n",
    "\n",
    "# OR operation\n",
    "result_or = buffer1 | buffer2   # 1111 1111\n",
    "\n",
    "# XOR operation\n",
    "result_xor = buffer1 ^ buffer2  # 1111 1111\n",
    "\n",
    "# NOT operation\n",
    "result_not = ~buffer1           # 1111 0000"
   ]
  },
  {
   "cell_type": "markdown",
   "metadata": {},
   "source": [
    "## Shifting and Padding\n",
    "\n",
    "Buffers can be shifted and padded in different ways:"
   ]
  },
  {
   "cell_type": "code",
   "execution_count": 3,
   "metadata": {},
   "outputs": [],
   "source": [
    "# Create a buffer\n",
    "buffer = Buffer(content=b'\\x06', length=4)  # 0110\n",
    "\n",
    "# Left shift by 2 bits\n",
    "shifted_left = buffer.shift(-2)  # 1000\n",
    "\n",
    "# Right shift by 1 bit\n",
    "shifted_right = buffer.shift(1)  # 0011\n",
    "\n",
    "# Change padding\n",
    "right_padded = buffer.pad(Padding.RIGHT)  # 0110 with right padding"
   ]
  },
  {
   "cell_type": "markdown",
   "metadata": {},
   "source": [
    "## Slicing and Indexing\n",
    "\n",
    "You can access individual bits or ranges of bits:"
   ]
  },
  {
   "cell_type": "code",
   "execution_count": 4,
   "metadata": {},
   "outputs": [],
   "source": [
    "# Create a buffer\n",
    "buffer = Buffer(content=b'\\x0F', length=8)  # 0000 1111\n",
    "\n",
    "# Get a single bit\n",
    "bit = buffer[3]  # Get the 4th bit (0-based indexing)\n",
    "\n",
    "# Get a range of bits\n",
    "bits = buffer[4:8]  # Get the last 4 bits\n",
    "\n",
    "# Set bits\n",
    "buffer[0:4] = Buffer(content=b'\\x0F', length=4)  # Set first 4 bits"
   ]
  },
  {
   "cell_type": "markdown",
   "metadata": {},
   "source": [
    "## Concatenation\n",
    "\n",
    "Buffers can be concatenated using the `+` operator:"
   ]
  },
  {
   "cell_type": "code",
   "execution_count": 5,
   "metadata": {},
   "outputs": [],
   "source": [
    "# Create two buffers\n",
    "buffer1 = Buffer(content=b'\\x0F', length=8)  # 0000 1111\n",
    "buffer2 = Buffer(content=b'\\xF0', length=8)  # 1111 0000\n",
    "\n",
    "# Concatenate them\n",
    "combined = buffer1 + buffer2  # 0000 1111 1111 0000"
   ]
  },
  {
   "cell_type": "markdown",
   "metadata": {},
   "source": [
    "## Advanced Features\n",
    "\n",
    "### Value Conversion\n",
    "\n",
    "\n",
    "The `Buffer` class provides several ways to convert between different representations of binary data:\n",
    "\n",
    "- **Integer Conversion**: Convert binary data to and from integers using the `value()` method with `type='unsigned int'`\n",
    "- **Bytes Access**: Access the raw bytes content using the `content` property\n",
    "- **Hex String**: Convert to hexadecimal string representation using Python's built-in `hex()` method\n",
    "- **Binary String**: Convert to binary string representation by iterating over bits\n",
    "- **From Integer**: Create a buffer from an integer by converting it to bytes\n",
    "- **From Hex**: Create a buffer from a hexadecimal string using `bytes.fromhex()`\n",
    "\n",
    "These conversions are essential when working with different data formats or when interfacing with other systems that use different binary representations.\n",
    "\n",
    "\n"
   ]
  },
  {
   "cell_type": "code",
   "execution_count": 11,
   "metadata": {},
   "outputs": [
    {
     "name": "stdout",
     "output_type": "stream",
     "text": [
      "value(type='unsigned int'): 15\n",
      "content as bytes: b'\\x0f'\n",
      "content as hex: 0f\n",
      "\n",
      "6-bit chunks:\n",
      "Chunk 0: [--000000 ](6)\n",
      "Chunk 1: [--010010 ](6)\n",
      "Chunk 2: [--001101 ](6)\n",
      "Chunk 3: [--000101 ](6)\n",
      "Chunk 4: [--011001 ](6)\n",
      "Chunk 5: [------11 ](2)\n"
     ]
    }
   ],
   "source": [
    "buffer = Buffer(content=b'\\x0F', length=8)  # 0000 1111\n",
    "\n",
    "# Buffer as an integer\n",
    "as_int = buffer.value(type='unsigned int')  # 15\n",
    "print(f\"value(type='unsigned int'): {as_int}\")\n",
    "\n",
    "# Buffer as bytes\n",
    "as_bytes = buffer.content  # b'\\x0F'\n",
    "print(f\"content as bytes: {as_bytes}\")\n",
    "\n",
    "# Convert to hex string\n",
    "as_hex = buffer.content.hex()  # '0F'\n",
    "print(f\"content.hex(): {as_hex}\")\n",
    "\n",
    "# Convert to binary string\n",
    "as_bin = ''.join(str(bit) for bit in buffer)  # '00001111'\n",
    "print(f\"binary string: {as_bin}\")\n",
    "\n",
    "# Create from integer\n",
    "from_int = Buffer(content=(15).to_bytes(1, 'big'), length=8)  # 0000 1111\n",
    "print(f\"from integer: {''.join(str(bit) for bit in from_int)}\")\n",
    "\n",
    "# Create from hex string\n",
    "from_hex = Buffer(content=bytes.fromhex('0F'), length=8)  # 0000 1111\n",
    "print(f\"from hex: {''.join(str(bit) for bit in from_hex)}\")\n",
    "\n"
   ]
  },
  {
   "cell_type": "markdown",
   "metadata": {},
   "source": [
    "## Iterating, Chunking\n",
    "\n",
    "The `chunks()` method allows you to split a buffer into smaller pieces of a specified size:\n",
    "\n",
    "This is particularly useful when:\n",
    "- Processing data in fixed-size blocks\n",
    "- Implementing protocols that work with specific chunk sizes\n",
    "- Analyzing binary data at different granularities"
   ]
  },
  {
   "cell_type": "code",
   "execution_count": 13,
   "metadata": {},
   "outputs": [
    {
     "name": "stdout",
     "output_type": "stream",
     "text": [
      "6-bit chunks:\n",
      "Chunk 0: [--000000 ](6)\n",
      "Chunk 1: [--010010 ](6)\n",
      "Chunk 2: [--001101 ](6)\n",
      "Chunk 3: [--000101 ](6)\n",
      "Chunk 4: [--011001 ](6)\n",
      "Chunk 5: [------11 ](2)\n",
      "4-bit chunks:\n",
      "Chunk 0: [----0000 ](4)\n",
      "Chunk 1: [----0001 ](4)\n",
      "Chunk 2: [----0010 ](4)\n",
      "Chunk 3: [----0011 ](4)\n",
      "Chunk 4: [----0100 ](4)\n",
      "Chunk 5: [----0101 ](4)\n",
      "Chunk 6: [----0110 ](4)\n",
      "Chunk 7: [----0111 ](4)\n"
     ]
    }
   ],
   "source": [
    "\n",
    "buffer = Buffer(content=b'\\x01\\x23\\x45\\x67', length=32)  # 00000001 00100011 01000101 01100111\n",
    "sixbits_chunks = buffer.chunks(6)\n",
    "fourbits_chunks = buffer.chunks(4)\n",
    "\n",
    "print(\"6-bit chunks:\")\n",
    "\n",
    "for i, chunk in enumerate(sixbits_chunks):\n",
    "    print(f\"Chunk {i}: {chunk}\")\n",
    "\n",
    "print(\"4-bit chunks:\")\n",
    "for i, chunk in enumerate(fourbits_chunks):\n",
    "    print(f\"Chunk {i}: {chunk}\")\n",
    "\n"
   ]
  },
  {
   "cell_type": "markdown",
   "metadata": {},
   "source": [
    "\n",
    "The `Buffer` class implements __get_item__ and __set_item__ methods which allows:\n",
    "\n",
    " - Access individual bits using indexing\n",
    " - Extract sub-buffers using slicing\n",
    " - Use negative indices to count from the end\n",
    "\n",
    "These iteration methods provide flexible ways to process binary data, whether you need to examine individual bits or work with larger units."
   ]
  },
  {
   "cell_type": "code",
   "execution_count": 18,
   "metadata": {},
   "outputs": [
    {
     "name": "stdout",
     "output_type": "stream",
     "text": [
      "[00010010](8)\n",
      "[----0111 ](4)\n"
     ]
    }
   ],
   "source": [
    "buffer = Buffer(content=b'\\x01\\x23\\x45\\x67', length=32)\n",
    "\n",
    "# slicing\n",
    "buffer_4to12thbits = buffer[4:12]\n",
    "print(buffer_4to12thbits)\n",
    "\n",
    "# negative indexing\n",
    "buffer_last_4bits = buffer[-4:]\n",
    "print(buffer_last_4bits)\n",
    "\n",
    "\n"
   ]
  },
  {
   "cell_type": "markdown",
   "metadata": {},
   "source": []
  },
  {
   "cell_type": "code",
   "execution_count": null,
   "metadata": {},
   "outputs": [],
   "source": []
  }
 ],
 "metadata": {
  "kernelspec": {
   "display_name": "microschc",
   "language": "python",
   "name": "python3"
  },
  "language_info": {
   "codemirror_mode": {
    "name": "ipython",
    "version": 3
   },
   "file_extension": ".py",
   "mimetype": "text/x-python",
   "name": "python",
   "nbconvert_exporter": "python",
   "pygments_lexer": "ipython3",
   "version": "3.12.9"
  }
 },
 "nbformat": 4,
 "nbformat_minor": 4
}
